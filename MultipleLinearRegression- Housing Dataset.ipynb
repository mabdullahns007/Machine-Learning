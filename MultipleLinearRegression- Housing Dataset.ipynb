{
  "nbformat": 4,
  "nbformat_minor": 0,
  "metadata": {
    "colab": {
      "provenance": []
    },
    "kernelspec": {
      "name": "python3",
      "display_name": "Python 3"
    },
    "language_info": {
      "name": "python"
    }
  },
  "cells": [
    {
      "cell_type": "markdown",
      "source": [
        "# Multiple linear regression\n",
        "# FA21BCS044 6A\n",
        "\n",
        "I have rearranged Dataset columns for convenience in data pre-processing"
      ],
      "metadata": {
        "id": "Ion3B6sGnJDG"
      }
    },
    {
      "cell_type": "markdown",
      "source": [
        "#Importing libraries"
      ],
      "metadata": {
        "id": "PtaDH8K-4bBo"
      }
    },
    {
      "cell_type": "code",
      "execution_count": 1,
      "metadata": {
        "id": "N7bOXUvi2r0h"
      },
      "outputs": [],
      "source": [
        "import numpy as np\n",
        "import matplotlib.pyplot as plt\n",
        "import pandas as pd"
      ]
    },
    {
      "cell_type": "markdown",
      "source": [
        "# Importing Dataset"
      ],
      "metadata": {
        "id": "06LMZ3d04rDe"
      }
    },
    {
      "cell_type": "code",
      "metadata": {
        "id": "aqHTg9bxWT_u"
      },
      "source": [
        "dataset = pd.read_csv('Housing2.csv')\n",
        "X = dataset.iloc[:, :-1].values\n",
        "y = dataset.iloc[:, -1].values"
      ],
      "execution_count": 2,
      "outputs": []
    },
    {
      "cell_type": "markdown",
      "source": [
        "# Labeling Columns with Yes/No categories"
      ],
      "metadata": {
        "id": "J1tLwOxC4uzU"
      }
    },
    {
      "cell_type": "code",
      "source": [
        "from sklearn.preprocessing import LabelEncoder\n",
        "le = LabelEncoder()\n",
        "X[:,0]=le.fit_transform(X[:,0])\n",
        "X[:,1]=le.fit_transform(X[:,1])\n",
        "X[:,2]=le.fit_transform(X[:,2])\n",
        "X[:,3]=le.fit_transform(X[:,3])\n",
        "X[:,4]=le.fit_transform(X[:,4])\n",
        "X[:,5]=le.fit_transform(X[:,5])"
      ],
      "metadata": {
        "id": "wr-tWTy6pGTI"
      },
      "execution_count": 3,
      "outputs": []
    },
    {
      "cell_type": "code",
      "source": [
        "print(X[0:5,0:])"
      ],
      "metadata": {
        "colab": {
          "base_uri": "https://localhost:8080/"
        },
        "id": "3CNTNL_NGii9",
        "outputId": "90e836c8-7cf0-4cb6-dd96-6052088d9e2d"
      },
      "execution_count": 4,
      "outputs": [
        {
          "output_type": "stream",
          "name": "stdout",
          "text": [
            "[[1 0 0 0 1 1 'furnished' 7420 4 2 3 2]\n",
            " [1 0 0 0 1 0 'furnished' 8960 4 4 4 3]\n",
            " [1 0 1 0 0 1 'semi-furnished' 9960 3 2 2 2]\n",
            " [1 0 1 0 1 1 'furnished' 7500 4 2 2 3]\n",
            " [1 1 1 0 1 0 'furnished' 7420 4 1 2 2]]\n"
          ]
        }
      ]
    },
    {
      "cell_type": "markdown",
      "source": [
        "# Encoding the categorical Variable furnishingstatus"
      ],
      "metadata": {
        "id": "Fn0nPgZY5CLO"
      }
    },
    {
      "cell_type": "code",
      "source": [
        "from sklearn.compose import ColumnTransformer\n",
        "from sklearn.preprocessing import OneHotEncoder\n",
        "ct = ColumnTransformer(transformers=[('encoder', OneHotEncoder(), [6])], remainder='passthrough')\n",
        "X = np.array(ct.fit_transform(X))"
      ],
      "metadata": {
        "id": "_DbhLmOSE3oy"
      },
      "execution_count": 5,
      "outputs": []
    },
    {
      "cell_type": "code",
      "source": [
        "print(X[0:5,0:])"
      ],
      "metadata": {
        "colab": {
          "base_uri": "https://localhost:8080/"
        },
        "id": "zGSVE-_qHW5K",
        "outputId": "dda96900-9fd1-4247-a15c-cdc2b73ed19c"
      },
      "execution_count": 6,
      "outputs": [
        {
          "output_type": "stream",
          "name": "stdout",
          "text": [
            "[[1.0 0.0 0.0 1 0 0 0 1 1 7420 4 2 3 2]\n",
            " [1.0 0.0 0.0 1 0 0 0 1 0 8960 4 4 4 3]\n",
            " [0.0 1.0 0.0 1 0 1 0 0 1 9960 3 2 2 2]\n",
            " [1.0 0.0 0.0 1 0 1 0 1 1 7500 4 2 2 3]\n",
            " [1.0 0.0 0.0 1 1 1 0 1 0 7420 4 1 2 2]]\n"
          ]
        }
      ]
    },
    {
      "cell_type": "markdown",
      "source": [
        "# Splitting the dataset"
      ],
      "metadata": {
        "id": "n04qmZ8m5z5Z"
      }
    },
    {
      "cell_type": "code",
      "source": [
        "from sklearn.model_selection import train_test_split\n",
        "X_train, X_test, y_train, y_test = train_test_split(X, y, test_size = 0.3, random_state = 100)"
      ],
      "metadata": {
        "id": "B8vGPNDZONEs"
      },
      "execution_count": 7,
      "outputs": []
    },
    {
      "cell_type": "code",
      "source": [
        "from sklearn.linear_model import LinearRegression\n",
        "regressor = LinearRegression()\n",
        "regressor.fit(X_train, y_train)"
      ],
      "metadata": {
        "colab": {
          "base_uri": "https://localhost:8080/",
          "height": 75
        },
        "id": "2mNJx4q6OfDZ",
        "outputId": "8171b7e5-c74a-4cfe-a37a-a29840b662fd"
      },
      "execution_count": 8,
      "outputs": [
        {
          "output_type": "execute_result",
          "data": {
            "text/plain": [
              "LinearRegression()"
            ],
            "text/html": [
              "<style>#sk-container-id-1 {color: black;background-color: white;}#sk-container-id-1 pre{padding: 0;}#sk-container-id-1 div.sk-toggleable {background-color: white;}#sk-container-id-1 label.sk-toggleable__label {cursor: pointer;display: block;width: 100%;margin-bottom: 0;padding: 0.3em;box-sizing: border-box;text-align: center;}#sk-container-id-1 label.sk-toggleable__label-arrow:before {content: \"▸\";float: left;margin-right: 0.25em;color: #696969;}#sk-container-id-1 label.sk-toggleable__label-arrow:hover:before {color: black;}#sk-container-id-1 div.sk-estimator:hover label.sk-toggleable__label-arrow:before {color: black;}#sk-container-id-1 div.sk-toggleable__content {max-height: 0;max-width: 0;overflow: hidden;text-align: left;background-color: #f0f8ff;}#sk-container-id-1 div.sk-toggleable__content pre {margin: 0.2em;color: black;border-radius: 0.25em;background-color: #f0f8ff;}#sk-container-id-1 input.sk-toggleable__control:checked~div.sk-toggleable__content {max-height: 200px;max-width: 100%;overflow: auto;}#sk-container-id-1 input.sk-toggleable__control:checked~label.sk-toggleable__label-arrow:before {content: \"▾\";}#sk-container-id-1 div.sk-estimator input.sk-toggleable__control:checked~label.sk-toggleable__label {background-color: #d4ebff;}#sk-container-id-1 div.sk-label input.sk-toggleable__control:checked~label.sk-toggleable__label {background-color: #d4ebff;}#sk-container-id-1 input.sk-hidden--visually {border: 0;clip: rect(1px 1px 1px 1px);clip: rect(1px, 1px, 1px, 1px);height: 1px;margin: -1px;overflow: hidden;padding: 0;position: absolute;width: 1px;}#sk-container-id-1 div.sk-estimator {font-family: monospace;background-color: #f0f8ff;border: 1px dotted black;border-radius: 0.25em;box-sizing: border-box;margin-bottom: 0.5em;}#sk-container-id-1 div.sk-estimator:hover {background-color: #d4ebff;}#sk-container-id-1 div.sk-parallel-item::after {content: \"\";width: 100%;border-bottom: 1px solid gray;flex-grow: 1;}#sk-container-id-1 div.sk-label:hover label.sk-toggleable__label {background-color: #d4ebff;}#sk-container-id-1 div.sk-serial::before {content: \"\";position: absolute;border-left: 1px solid gray;box-sizing: border-box;top: 0;bottom: 0;left: 50%;z-index: 0;}#sk-container-id-1 div.sk-serial {display: flex;flex-direction: column;align-items: center;background-color: white;padding-right: 0.2em;padding-left: 0.2em;position: relative;}#sk-container-id-1 div.sk-item {position: relative;z-index: 1;}#sk-container-id-1 div.sk-parallel {display: flex;align-items: stretch;justify-content: center;background-color: white;position: relative;}#sk-container-id-1 div.sk-item::before, #sk-container-id-1 div.sk-parallel-item::before {content: \"\";position: absolute;border-left: 1px solid gray;box-sizing: border-box;top: 0;bottom: 0;left: 50%;z-index: -1;}#sk-container-id-1 div.sk-parallel-item {display: flex;flex-direction: column;z-index: 1;position: relative;background-color: white;}#sk-container-id-1 div.sk-parallel-item:first-child::after {align-self: flex-end;width: 50%;}#sk-container-id-1 div.sk-parallel-item:last-child::after {align-self: flex-start;width: 50%;}#sk-container-id-1 div.sk-parallel-item:only-child::after {width: 0;}#sk-container-id-1 div.sk-dashed-wrapped {border: 1px dashed gray;margin: 0 0.4em 0.5em 0.4em;box-sizing: border-box;padding-bottom: 0.4em;background-color: white;}#sk-container-id-1 div.sk-label label {font-family: monospace;font-weight: bold;display: inline-block;line-height: 1.2em;}#sk-container-id-1 div.sk-label-container {text-align: center;}#sk-container-id-1 div.sk-container {/* jupyter's `normalize.less` sets `[hidden] { display: none; }` but bootstrap.min.css set `[hidden] { display: none !important; }` so we also need the `!important` here to be able to override the default hidden behavior on the sphinx rendered scikit-learn.org. See: https://github.com/scikit-learn/scikit-learn/issues/21755 */display: inline-block !important;position: relative;}#sk-container-id-1 div.sk-text-repr-fallback {display: none;}</style><div id=\"sk-container-id-1\" class=\"sk-top-container\"><div class=\"sk-text-repr-fallback\"><pre>LinearRegression()</pre><b>In a Jupyter environment, please rerun this cell to show the HTML representation or trust the notebook. <br />On GitHub, the HTML representation is unable to render, please try loading this page with nbviewer.org.</b></div><div class=\"sk-container\" hidden><div class=\"sk-item\"><div class=\"sk-estimator sk-toggleable\"><input class=\"sk-toggleable__control sk-hidden--visually\" id=\"sk-estimator-id-1\" type=\"checkbox\" checked><label for=\"sk-estimator-id-1\" class=\"sk-toggleable__label sk-toggleable__label-arrow\">LinearRegression</label><div class=\"sk-toggleable__content\"><pre>LinearRegression()</pre></div></div></div></div></div>"
            ]
          },
          "metadata": {},
          "execution_count": 8
        }
      ]
    },
    {
      "cell_type": "markdown",
      "source": [
        "#Comparing predicted values and test data values\n",
        "\n",
        "\n",
        "\n"
      ],
      "metadata": {
        "id": "s23DgfjYmYxQ"
      }
    },
    {
      "cell_type": "code",
      "source": [
        "y_pred = regressor.predict(X_test)\n",
        "np.set_printoptions(precision=2)\n",
        "print(np.concatenate((y_pred.reshape(len(y_pred),1), y_test.reshape(len(y_test),1)),1))"
      ],
      "metadata": {
        "colab": {
          "base_uri": "https://localhost:8080/"
        },
        "id": "FHXaKaGuOiqA",
        "outputId": "541906a4-6946-4dbc-d811-c422850a787d"
      },
      "execution_count": 9,
      "outputs": [
        {
          "output_type": "stream",
          "name": "stdout",
          "text": [
            "[[ 4143699.2   4403000.  ]\n",
            " [ 6661197.08  7350000.  ]\n",
            " [ 5722054.    5250000.  ]\n",
            " [ 5326517.21  4550000.  ]\n",
            " [ 4831442.87  4382000.  ]\n",
            " [ 4069360.35  4690000.  ]\n",
            " [ 8056958.1   8540000.  ]\n",
            " [ 5730070.17  5250000.  ]\n",
            " [ 3497755.69  2730000.  ]\n",
            " [ 5656737.45  5950000.  ]\n",
            " [ 3007238.81  3675000.  ]\n",
            " [ 6228868.54  6650000.  ]\n",
            " [ 4634454.99  2380000.  ]\n",
            " [ 7313434.75  5943000.  ]\n",
            " [ 5686360.38  5600000.  ]\n",
            " [ 6851266.51  4970000.  ]\n",
            " [ 8168306.94 12215000.  ]\n",
            " [ 4393064.17  4340000.  ]\n",
            " [ 6030273.97  7875000.  ]\n",
            " [ 4874126.78  5950000.  ]\n",
            " [ 4247412.32  3143000.  ]\n",
            " [ 2736529.66  3990000.  ]\n",
            " [ 4520239.27  4473000.  ]\n",
            " [ 3675698.98  2870000.  ]\n",
            " [ 2713706.04  3465000.  ]\n",
            " [ 3408037.1   2653000.  ]\n",
            " [ 5194163.01  4480000.  ]\n",
            " [ 6510696.8   6195000.  ]\n",
            " [ 6477903.6   3920000.  ]\n",
            " [ 5026480.65  9100000.  ]\n",
            " [ 3139466.6   2660000.  ]\n",
            " [ 4554147.98  3500000.  ]\n",
            " [ 3008821.69  3360000.  ]\n",
            " [ 2746228.36  1890000.  ]\n",
            " [ 4947249.97  4830000.  ]\n",
            " [ 4625625.58  4200000.  ]\n",
            " [ 4621248.57  4200000.  ]\n",
            " [ 3286474.78  2800000.  ]\n",
            " [ 3349232.45  3675000.  ]\n",
            " [ 4282981.41  4007500.  ]\n",
            " [ 3107246.89  5040000.  ]\n",
            " [ 6010907.8   5530000.  ]\n",
            " [ 6072531.93  5600000.  ]\n",
            " [ 2974078.32  2100000.  ]\n",
            " [ 2651694.9   2660000.  ]\n",
            " [ 4636773.5   4690000.  ]\n",
            " [ 4485916.71  4200000.  ]\n",
            " [ 5095697.45  2590000.  ]\n",
            " [ 3317942.4   3605000.  ]\n",
            " [ 6056348.57  6090000.  ]\n",
            " [ 1987375.02  2604000.  ]\n",
            " [ 6495042.31  5740000.  ]\n",
            " [ 5916783.31  5250000.  ]\n",
            " [ 6515652.53  8400000.  ]\n",
            " [ 6917995.74  6195000.  ]\n",
            " [ 5001340.18  4900000.  ]\n",
            " [ 6172622.59  6300000.  ]\n",
            " [ 2839483.58  3423000.  ]\n",
            " [ 2710691.21  3115000.  ]\n",
            " [ 4166295.06  4900000.  ]\n",
            " [ 2807125.25  1890000.  ]\n",
            " [ 3760492.29  3570000.  ]\n",
            " [ 7234268.1   8400000.  ]\n",
            " [ 6954452.61  6293000.  ]\n",
            " [ 2850667.73  1960000.  ]\n",
            " [ 3171940.6   3500000.  ]\n",
            " [ 6776505.47  7343000.  ]\n",
            " [ 2724711.79  3570000.  ]\n",
            " [ 2462022.32  3150000.  ]\n",
            " [ 6323353.86  5565000.  ]\n",
            " [ 2651358.92  2450000.  ]\n",
            " [ 6447139.43  4543000.  ]\n",
            " [ 3995332.05  4907000.  ]\n",
            " [ 3451087.1   2485000.  ]\n",
            " [ 5095343.92  4900000.  ]\n",
            " [ 4302741.79  6107500.  ]\n",
            " [ 6718502.41  5600000.  ]\n",
            " [ 8191989.98  7980000.  ]\n",
            " [ 9890846.05 10150000.  ]\n",
            " [ 5482871.76  4620000.  ]\n",
            " [ 8005411.58  7210000.  ]\n",
            " [ 2846538.35  2240000.  ]\n",
            " [ 2920832.59  3010000.  ]\n",
            " [ 2799952.02  2940000.  ]\n",
            " [ 5116822.89  5075000.  ]\n",
            " [ 3306646.97  2660000.  ]\n",
            " [ 3443931.97  3220000.  ]\n",
            " [ 5752084.23  7420000.  ]\n",
            " [ 5003340.41  4893000.  ]\n",
            " [ 2611932.3   3010000.  ]\n",
            " [ 4348121.13  2940000.  ]\n",
            " [ 2987740.7   3493000.  ]\n",
            " [ 3308521.97  1820000.  ]\n",
            " [ 4822203.48  3850000.  ]\n",
            " [ 4704282.7   4515000.  ]\n",
            " [ 3102196.61  3395000.  ]\n",
            " [ 4735411.32  6440000.  ]\n",
            " [ 3272208.81  3500000.  ]\n",
            " [ 6308343.15  5460000.  ]\n",
            " [ 3107501.27  4340000.  ]\n",
            " [ 4908900.84  4098500.  ]\n",
            " [ 6464316.47  7070000.  ]\n",
            " [ 6040155.92  5425000.  ]\n",
            " [ 8007315.38  6790000.  ]\n",
            " [ 3854577.28  3150000.  ]\n",
            " [ 4944175.59  4060000.  ]\n",
            " [ 3176600.49  3360000.  ]\n",
            " [ 4164871.71  3885000.  ]\n",
            " [ 4139813.76  3640000.  ]\n",
            " [ 5869130.85  8645000.  ]\n",
            " [ 7673111.53  7840000.  ]\n",
            " [ 5598866.61  6419000.  ]\n",
            " [ 5581483.22  5950000.  ]\n",
            " [ 4445635.4   3010000.  ]\n",
            " [ 3162914.55  3850000.  ]\n",
            " [10620288.69 12250000.  ]\n",
            " [ 4309658.61  4480000.  ]\n",
            " [ 5178166.96  5110000.  ]\n",
            " [ 3445111.21  4319000.  ]\n",
            " [ 5122277.06  4200000.  ]\n",
            " [ 6714634.05  7700000.  ]\n",
            " [ 3379632.52  3500000.  ]\n",
            " [ 3430279.98  3500000.  ]\n",
            " [ 4736748.82  5810000.  ]\n",
            " [ 6139689.03  5740000.  ]\n",
            " [ 4893709.86  5495000.  ]\n",
            " [ 4080803.28  3080000.  ]\n",
            " [ 3842675.62  3150000.  ]\n",
            " [ 6556539.63  8645000.  ]\n",
            " [ 6566843.25  4340000.  ]\n",
            " [ 5498007.29  8750000.  ]\n",
            " [ 3278331.65  3500000.  ]\n",
            " [ 2952406.36  3080000.  ]\n",
            " [ 6020166.56  5320000.  ]\n",
            " [ 3523805.71  3395000.  ]\n",
            " [ 6368303.14  6230000.  ]\n",
            " [ 8685360.28 10150000.  ]\n",
            " [ 3485927.76  3920000.  ]\n",
            " [ 3648483.01  3325000.  ]\n",
            " [ 6550489.96  8890000.  ]\n",
            " [ 3251642.31  2940000.  ]\n",
            " [ 4128160.13  2653000.  ]\n",
            " [ 4634224.69  4620000.  ]\n",
            " [ 5384616.18  3150000.  ]\n",
            " [ 3308498.96  2660000.  ]\n",
            " [ 4961513.48  4935000.  ]\n",
            " [ 3633776.27  3500000.  ]\n",
            " [ 6169834.79  3640000.  ]\n",
            " [ 7136826.79  5250000.  ]\n",
            " [ 4838999.94  7350000.  ]\n",
            " [ 3448072.27  2450000.  ]\n",
            " [ 7120695.55  4690000.  ]\n",
            " [ 2902124.51  3430000.  ]\n",
            " [ 4796060.29  4767000.  ]\n",
            " [ 5368897.45  7070000.  ]\n",
            " [ 4186813.79  3850000.  ]\n",
            " [ 3977472.11  3633000.  ]\n",
            " [ 4777320.69  3773000.  ]\n",
            " [ 4949729.4   3080000.  ]\n",
            " [ 4904568.12  3430000.  ]\n",
            " [ 5923278.86  5040000.  ]\n",
            " [ 4029499.07  4130000.  ]\n",
            " [ 7134689.01  7525000.  ]\n",
            " [ 7033937.74  7420000.  ]]\n"
          ]
        }
      ]
    },
    {
      "cell_type": "code",
      "source": [
        "print(regressor.coef_)"
      ],
      "metadata": {
        "colab": {
          "base_uri": "https://localhost:8080/"
        },
        "id": "6UNmUwx2P4E8",
        "outputId": "3ddfcdd1-3822-4636-f936-9ee70db1f7ac"
      },
      "execution_count": 10,
      "outputs": [
        {
          "output_type": "stream",
          "name": "stdout",
          "text": [
            "[ 1.16e+05  1.26e+05 -2.42e+05  5.83e+05  3.51e+05  2.49e+05  9.80e+05\n",
            "  7.72e+05  6.86e+05  2.39e+02  1.08e+05  1.10e+06  4.18e+05  2.34e+05]\n"
          ]
        }
      ]
    },
    {
      "cell_type": "code",
      "source": [
        "import matplotlib.pyplot as plt\n",
        "import seaborn as sns\n",
        "%matplotlib inline\n",
        "fig = plt.figure()\n",
        "sns.distplot((y_test - y_pred), bins = 20)\n",
        "fig.suptitle('Error Terms', fontsize = 20)                  # Plot heading\n",
        "plt.xlabel('Errors', fontsize = 18)"
      ],
      "metadata": {
        "colab": {
          "base_uri": "https://localhost:8080/",
          "height": 728
        },
        "id": "VMrDzhsqz2B4",
        "outputId": "ec868463-035b-4b8d-8e0e-e70d8e6706cf"
      },
      "execution_count": 11,
      "outputs": [
        {
          "output_type": "stream",
          "name": "stderr",
          "text": [
            "<ipython-input-11-82c50a740027>:5: UserWarning: \n",
            "\n",
            "`distplot` is a deprecated function and will be removed in seaborn v0.14.0.\n",
            "\n",
            "Please adapt your code to use either `displot` (a figure-level function with\n",
            "similar flexibility) or `histplot` (an axes-level function for histograms).\n",
            "\n",
            "For a guide to updating your code to use the new functions, please see\n",
            "https://gist.github.com/mwaskom/de44147ed2974457ad6372750bbe5751\n",
            "\n",
            "  sns.distplot((y_test - y_pred), bins = 20)\n"
          ]
        },
        {
          "output_type": "execute_result",
          "data": {
            "text/plain": [
              "Text(0.5, 0, 'Errors')"
            ]
          },
          "metadata": {},
          "execution_count": 11
        },
        {
          "output_type": "display_data",
          "data": {
            "text/plain": [
              "<Figure size 640x480 with 1 Axes>"
            ],
            "image/png": "[encoded data removed]"
          },
          "metadata": {}
        }
      ]
    },
    {
      "cell_type": "code",
      "source": [
        "from sklearn.metrics import r2_score\n",
        "r2_score(y_test,y_pred)"
      ],
      "metadata": {
        "colab": {
          "base_uri": "https://localhost:8080/"
        },
        "id": "SsP0hvm9F6jn",
        "outputId": "9cbb8a60-af76-4db6-ed46-90812dba0f16"
      },
      "execution_count": 12,
      "outputs": [
        {
          "output_type": "execute_result",
          "data": {
            "text/plain": [
              "0.6729582743459914"
            ]
          },
          "metadata": {},
          "execution_count": 12
        }
      ]
    }
  ]
}