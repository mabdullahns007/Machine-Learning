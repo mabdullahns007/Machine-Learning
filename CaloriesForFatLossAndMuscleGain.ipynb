{
  "nbformat": 4,
  "nbformat_minor": 0,
  "metadata": {
    "colab": {
      "provenance": []
    },
    "kernelspec": {
      "name": "python3",
      "display_name": "Python 3"
    }
  },
  "cells": [
    {
      "cell_type": "markdown",
      "metadata": {
        "id": "CazISR8X_HUG"
      },
      "source": [
        "# Multiple Linear Regression"
      ]
    },
    {
      "cell_type": "markdown",
      "metadata": {
        "id": "pOyqYHTk_Q57"
      },
      "source": [
        "## Importing the libraries"
      ]
    },
    {
      "cell_type": "code",
      "metadata": {
        "id": "T_YHJjnD_Tja"
      },
      "source": [
        "import numpy as np\n",
        "import matplotlib.pyplot as plt\n",
        "import pandas as pd"
      ],
      "execution_count": 1,
      "outputs": []
    },
    {
      "cell_type": "markdown",
      "metadata": {
        "id": "vgC61-ah_WIz"
      },
      "source": [
        "## Importing the dataset"
      ]
    },
    {
      "cell_type": "code",
      "metadata": {
        "id": "UrxyEKGn_ez7"
      },
      "source": [
        "dataset = pd.read_csv('MuscleGain_FatLoss.csv')\n",
        "X = dataset.iloc[:, :-1].values\n",
        "y = dataset.iloc[:, -1].values"
      ],
      "execution_count": 2,
      "outputs": []
    },
    {
      "cell_type": "code",
      "metadata": {
        "id": "GOB3QhV9B5kD",
        "colab": {
          "base_uri": "https://localhost:8080/"
        },
        "outputId": "596aa3b1-3e51-4276-9fec-5ce182423776"
      },
      "source": [
        "print(X)"
      ],
      "execution_count": 3,
      "outputs": [
        {
          "output_type": "stream",
          "name": "stdout",
          "text": [
            "[[18 152.4 30 ... 50.0 'Fat loss' 1.3]\n",
            " [19 152.6 31 ... 50.18 'Fat loss' 1.5]\n",
            " [20 152.79999999999998 32 ... 50.36 'Fat loss' 1.3]\n",
            " ...\n",
            " [40 174.99999999999872 104 ... 65.96 'Muscle Gain' 1.9]\n",
            " [41 175.1999999999987 105 ... 66.15 'Muscle Gain' 1.7]\n",
            " [42 175.3999999999987 106 ... 66.33 'Muscle Gain' 1.9]]\n"
          ]
        }
      ]
    },
    {
      "cell_type": "markdown",
      "source": [
        "#Encoding Labels"
      ],
      "metadata": {
        "id": "8L6xg9uaL7gb"
      }
    },
    {
      "cell_type": "code",
      "source": [
        "from sklearn.preprocessing import LabelEncoder\n",
        "le = LabelEncoder()\n",
        "X[:,3]=le.fit_transform(X[:,3])\n",
        "X[:,7]=le.fit_transform(X[:,7])"
      ],
      "metadata": {
        "id": "CElrey5FL9rI"
      },
      "execution_count": 4,
      "outputs": []
    },
    {
      "cell_type": "code",
      "source": [
        "print(X[0:15,0:])"
      ],
      "metadata": {
        "id": "qIeSzfNjMUwp",
        "outputId": "0af2129b-0e0a-4dfc-c5c3-8736e6f91d2d",
        "colab": {
          "base_uri": "https://localhost:8080/"
        }
      },
      "execution_count": 5,
      "outputs": [
        {
          "output_type": "stream",
          "name": "stdout",
          "text": [
            "[[18 152.4 30 1 12.92 'Severe Thinness' 50.0 0 1.3]\n",
            " [19 152.6 31 1 13.31 'Severe Thinness' 50.18 0 1.5]\n",
            " [20 152.79999999999998 32 1 13.71 'Severe Thinness' 50.36 0 1.3]\n",
            " [21 152.99999999999997 33 1 14.1 'Severe Thinness' 50.54 0 1.5]\n",
            " [22 153.19999999999996 34 1 14.49 'Severe Thinness' 50.72 0 1.3]\n",
            " [23 153.39999999999995 35 1 14.87 'Severe Thinness' 50.91 0 1.5]\n",
            " [24 153.59999999999994 36 1 15.26 'Severe Thinness' 51.09 0 1.3]\n",
            " [25 153.79999999999993 37 1 15.64 'Severe Thinness' 51.27 0 1.5]\n",
            " [26 153.99999999999991 38 1 16.02 'Moderate Thinness' 51.45 0 1.3]\n",
            " [27 154.1999999999999 39 1 16.4 'Moderate Thinness' 51.63 0 1.5]\n",
            " [28 154.3999999999999 40 1 16.78 'Moderate Thinness' 51.81 0 1.3]\n",
            " [29 154.59999999999988 41 1 17.15 'Mild Thinness' 51.99 0 1.5]\n",
            " [30 154.79999999999987 42 1 17.53 'Mild Thinness' 52.17 0 1.3]\n",
            " [31 154.99999999999986 43 1 17.9 'Mild Thinness' 52.35 0 1.5]\n",
            " [32 155.19999999999985 44 1 18.27 'Mild Thinness' 52.54 0 1.3]]\n"
          ]
        }
      ]
    },
    {
      "cell_type": "markdown",
      "metadata": {
        "id": "VadrvE7s_lS9"
      },
      "source": [
        "## Encoding categorical data"
      ]
    },
    {
      "cell_type": "code",
      "metadata": {
        "id": "wV3fD1mbAvsh"
      },
      "source": [
        "from sklearn.compose import ColumnTransformer\n",
        "from sklearn.preprocessing import OneHotEncoder\n",
        "ct = ColumnTransformer(transformers=[('encoder', OneHotEncoder(), [5])], remainder='passthrough')\n",
        "X = np.array(ct.fit_transform(X))"
      ],
      "execution_count": 6,
      "outputs": []
    },
    {
      "cell_type": "code",
      "metadata": {
        "id": "4ym3HdYeCGYG",
        "colab": {
          "base_uri": "https://localhost:8080/"
        },
        "outputId": "819d51f5-e975-459e-ee90-497657bbdb0d"
      },
      "source": [
        "print(X[0:15,0:])"
      ],
      "execution_count": 10,
      "outputs": [
        {
          "output_type": "stream",
          "name": "stdout",
          "text": [
            "[[0.0 0.0 0.0 0.0 0.0 0.0 0.0 1.0 18 152.4 30 1 12.92 50.0 0 1.3]\n",
            " [0.0 0.0 0.0 0.0 0.0 0.0 0.0 1.0 19 152.6 31 1 13.31 50.18 0 1.5]\n",
            " [0.0 0.0 0.0 0.0 0.0 0.0 0.0 1.0 20 152.79999999999998 32 1 13.71 50.36\n",
            "  0 1.3]\n",
            " [0.0 0.0 0.0 0.0 0.0 0.0 0.0 1.0 21 152.99999999999997 33 1 14.1 50.54 0\n",
            "  1.5]\n",
            " [0.0 0.0 0.0 0.0 0.0 0.0 0.0 1.0 22 153.19999999999996 34 1 14.49 50.72\n",
            "  0 1.3]\n",
            " [0.0 0.0 0.0 0.0 0.0 0.0 0.0 1.0 23 153.39999999999995 35 1 14.87 50.91\n",
            "  0 1.5]\n",
            " [0.0 0.0 0.0 0.0 0.0 0.0 0.0 1.0 24 153.59999999999994 36 1 15.26 51.09\n",
            "  0 1.3]\n",
            " [0.0 0.0 0.0 0.0 0.0 0.0 0.0 1.0 25 153.79999999999993 37 1 15.64 51.27\n",
            "  0 1.5]\n",
            " [0.0 1.0 0.0 0.0 0.0 0.0 0.0 0.0 26 153.99999999999991 38 1 16.02 51.45\n",
            "  0 1.3]\n",
            " [0.0 1.0 0.0 0.0 0.0 0.0 0.0 0.0 27 154.1999999999999 39 1 16.4 51.63 0\n",
            "  1.5]\n",
            " [0.0 1.0 0.0 0.0 0.0 0.0 0.0 0.0 28 154.3999999999999 40 1 16.78 51.81 0\n",
            "  1.3]\n",
            " [1.0 0.0 0.0 0.0 0.0 0.0 0.0 0.0 29 154.59999999999988 41 1 17.15 51.99\n",
            "  0 1.5]\n",
            " [1.0 0.0 0.0 0.0 0.0 0.0 0.0 0.0 30 154.79999999999987 42 1 17.53 52.17\n",
            "  0 1.3]\n",
            " [1.0 0.0 0.0 0.0 0.0 0.0 0.0 0.0 31 154.99999999999986 43 1 17.9 52.35 0\n",
            "  1.5]\n",
            " [1.0 0.0 0.0 0.0 0.0 0.0 0.0 0.0 32 155.19999999999985 44 1 18.27 52.54\n",
            "  0 1.3]]\n"
          ]
        }
      ]
    },
    {
      "cell_type": "markdown",
      "metadata": {
        "id": "WemVnqgeA70k"
      },
      "source": [
        "## Splitting the dataset into the Training set and Test set"
      ]
    },
    {
      "cell_type": "code",
      "metadata": {
        "id": "Kb_v_ae-A-20"
      },
      "source": [
        "from sklearn.model_selection import train_test_split\n",
        "X_train, X_test, y_train, y_test = train_test_split(X, y, test_size = 0.2, random_state = 0)"
      ],
      "execution_count": 11,
      "outputs": []
    },
    {
      "cell_type": "markdown",
      "metadata": {
        "id": "k-McZVsQBINc"
      },
      "source": [
        "## Training the Multiple Linear Regression model on the Training set"
      ]
    },
    {
      "cell_type": "code",
      "metadata": {
        "id": "ywPjx0L1BMiD",
        "colab": {
          "base_uri": "https://localhost:8080/",
          "height": 75
        },
        "outputId": "984a2d5e-6f31-4b15-dbd7-901981f9c27f"
      },
      "source": [
        "from sklearn.linear_model import LinearRegression\n",
        "regressor = LinearRegression()\n",
        "regressor.fit(X_train, y_train)"
      ],
      "execution_count": 12,
      "outputs": [
        {
          "output_type": "execute_result",
          "data": {
            "text/plain": [
              "LinearRegression()"
            ],
            "text/html": [
              "<style>#sk-container-id-1 {color: black;background-color: white;}#sk-container-id-1 pre{padding: 0;}#sk-container-id-1 div.sk-toggleable {background-color: white;}#sk-container-id-1 label.sk-toggleable__label {cursor: pointer;display: block;width: 100%;margin-bottom: 0;padding: 0.3em;box-sizing: border-box;text-align: center;}#sk-container-id-1 label.sk-toggleable__label-arrow:before {content: \"▸\";float: left;margin-right: 0.25em;color: #696969;}#sk-container-id-1 label.sk-toggleable__label-arrow:hover:before {color: black;}#sk-container-id-1 div.sk-estimator:hover label.sk-toggleable__label-arrow:before {color: black;}#sk-container-id-1 div.sk-toggleable__content {max-height: 0;max-width: 0;overflow: hidden;text-align: left;background-color: #f0f8ff;}#sk-container-id-1 div.sk-toggleable__content pre {margin: 0.2em;color: black;border-radius: 0.25em;background-color: #f0f8ff;}#sk-container-id-1 input.sk-toggleable__control:checked~div.sk-toggleable__content {max-height: 200px;max-width: 100%;overflow: auto;}#sk-container-id-1 input.sk-toggleable__control:checked~label.sk-toggleable__label-arrow:before {content: \"▾\";}#sk-container-id-1 div.sk-estimator input.sk-toggleable__control:checked~label.sk-toggleable__label {background-color: #d4ebff;}#sk-container-id-1 div.sk-label input.sk-toggleable__control:checked~label.sk-toggleable__label {background-color: #d4ebff;}#sk-container-id-1 input.sk-hidden--visually {border: 0;clip: rect(1px 1px 1px 1px);clip: rect(1px, 1px, 1px, 1px);height: 1px;margin: -1px;overflow: hidden;padding: 0;position: absolute;width: 1px;}#sk-container-id-1 div.sk-estimator {font-family: monospace;background-color: #f0f8ff;border: 1px dotted black;border-radius: 0.25em;box-sizing: border-box;margin-bottom: 0.5em;}#sk-container-id-1 div.sk-estimator:hover {background-color: #d4ebff;}#sk-container-id-1 div.sk-parallel-item::after {content: \"\";width: 100%;border-bottom: 1px solid gray;flex-grow: 1;}#sk-container-id-1 div.sk-label:hover label.sk-toggleable__label {background-color: #d4ebff;}#sk-container-id-1 div.sk-serial::before {content: \"\";position: absolute;border-left: 1px solid gray;box-sizing: border-box;top: 0;bottom: 0;left: 50%;z-index: 0;}#sk-container-id-1 div.sk-serial {display: flex;flex-direction: column;align-items: center;background-color: white;padding-right: 0.2em;padding-left: 0.2em;position: relative;}#sk-container-id-1 div.sk-item {position: relative;z-index: 1;}#sk-container-id-1 div.sk-parallel {display: flex;align-items: stretch;justify-content: center;background-color: white;position: relative;}#sk-container-id-1 div.sk-item::before, #sk-container-id-1 div.sk-parallel-item::before {content: \"\";position: absolute;border-left: 1px solid gray;box-sizing: border-box;top: 0;bottom: 0;left: 50%;z-index: -1;}#sk-container-id-1 div.sk-parallel-item {display: flex;flex-direction: column;z-index: 1;position: relative;background-color: white;}#sk-container-id-1 div.sk-parallel-item:first-child::after {align-self: flex-end;width: 50%;}#sk-container-id-1 div.sk-parallel-item:last-child::after {align-self: flex-start;width: 50%;}#sk-container-id-1 div.sk-parallel-item:only-child::after {width: 0;}#sk-container-id-1 div.sk-dashed-wrapped {border: 1px dashed gray;margin: 0 0.4em 0.5em 0.4em;box-sizing: border-box;padding-bottom: 0.4em;background-color: white;}#sk-container-id-1 div.sk-label label {font-family: monospace;font-weight: bold;display: inline-block;line-height: 1.2em;}#sk-container-id-1 div.sk-label-container {text-align: center;}#sk-container-id-1 div.sk-container {/* jupyter's `normalize.less` sets `[hidden] { display: none; }` but bootstrap.min.css set `[hidden] { display: none !important; }` so we also need the `!important` here to be able to override the default hidden behavior on the sphinx rendered scikit-learn.org. See: https://github.com/scikit-learn/scikit-learn/issues/21755 */display: inline-block !important;position: relative;}#sk-container-id-1 div.sk-text-repr-fallback {display: none;}</style><div id=\"sk-container-id-1\" class=\"sk-top-container\"><div class=\"sk-text-repr-fallback\"><pre>LinearRegression()</pre><b>In a Jupyter environment, please rerun this cell to show the HTML representation or trust the notebook. <br />On GitHub, the HTML representation is unable to render, please try loading this page with nbviewer.org.</b></div><div class=\"sk-container\" hidden><div class=\"sk-item\"><div class=\"sk-estimator sk-toggleable\"><input class=\"sk-toggleable__control sk-hidden--visually\" id=\"sk-estimator-id-1\" type=\"checkbox\" checked><label for=\"sk-estimator-id-1\" class=\"sk-toggleable__label sk-toggleable__label-arrow\">LinearRegression</label><div class=\"sk-toggleable__content\"><pre>LinearRegression()</pre></div></div></div></div></div>"
            ]
          },
          "metadata": {},
          "execution_count": 12
        }
      ]
    },
    {
      "cell_type": "markdown",
      "metadata": {
        "id": "xNkXL1YQBiBT"
      },
      "source": [
        "## Predicting the Test set results"
      ]
    },
    {
      "cell_type": "code",
      "metadata": {
        "id": "TQKmwvtdBkyb",
        "colab": {
          "base_uri": "https://localhost:8080/"
        },
        "outputId": "9d7e5880-8193-4bf6-e021-3cbbd1c81d7b"
      },
      "source": [
        "y_pred = regressor.predict(X_test)\n",
        "np.set_printoptions(precision=2)\n",
        "print(np.concatenate((y_pred.reshape(len(y_pred),1), y_test.reshape(len(y_test),1)),1))"
      ],
      "execution_count": 13,
      "outputs": [
        {
          "output_type": "stream",
          "name": "stdout",
          "text": [
            "[[2990.8  3025.16]\n",
            " [2310.58 2303.94]\n",
            " [2567.53 2575.91]\n",
            " ...\n",
            " [1905.33 1920.23]\n",
            " [1883.14 1900.17]\n",
            " [2123.4  2014.33]]\n"
          ]
        }
      ]
    },
    {
      "cell_type": "code",
      "source": [
        "print(y_test)"
      ],
      "metadata": {
        "id": "bJvUXtvCPr4y",
        "outputId": "6f157c32-7cf9-4a6f-9095-7037c268ca9f",
        "colab": {
          "base_uri": "https://localhost:8080/"
        }
      },
      "execution_count": 15,
      "outputs": [
        {
          "output_type": "stream",
          "name": "stdout",
          "text": [
            "[3025.16 2303.94 2575.91 ... 1920.23 1900.17 2014.33]\n"
          ]
        }
      ]
    },
    {
      "cell_type": "markdown",
      "source": [
        "#Evalutaing Performance"
      ],
      "metadata": {
        "id": "lNEey_ppPAYg"
      }
    },
    {
      "cell_type": "code",
      "source": [
        "from sklearn.metrics import r2_score\n",
        "r2_score(y_test,y_pred)"
      ],
      "metadata": {
        "id": "o16nsN88PACb",
        "outputId": "15513e08-dc23-43e2-a4f1-6b537a53cb58",
        "colab": {
          "base_uri": "https://localhost:8080/"
        }
      },
      "execution_count": 14,
      "outputs": [
        {
          "output_type": "execute_result",
          "data": {
            "text/plain": [
              "0.9902959782983927"
            ]
          },
          "metadata": {},
          "execution_count": 14
        }
      ]
    }
  ]
}